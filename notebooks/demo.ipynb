{
 "cells": [
  {
   "cell_type": "code",
   "execution_count": 1,
   "metadata": {},
   "outputs": [
    {
     "name": "stdout",
     "output_type": "stream",
     "text": [
      "Populating the interactive namespace from numpy and matplotlib\n"
     ]
    }
   ],
   "source": [
    "%pylab inline\n",
    "%load_ext autoreload\n",
    "%autoreload 2\n",
    "from sklhogsvd import HigherOrderGSVD"
   ]
  },
  {
   "cell_type": "code",
   "execution_count": 2,
   "metadata": {},
   "outputs": [],
   "source": [
    "np.random.seed(42)\n",
    "data1 = np.random.normal(loc=0, scale=10, size=(10, 10))\n",
    "data2 = np.random.normal(loc=0, scale=10, size=(10, 10))\n",
    "data3 = np.random.normal(loc=0, scale=10, size=(10, 10))\n",
    "X =  [data1, data2, data3]"
   ]
  },
  {
   "cell_type": "code",
   "execution_count": 3,
   "metadata": {},
   "outputs": [],
   "source": [
    "fit = HigherOrderGSVD().fit(X)"
   ]
  },
  {
   "cell_type": "code",
   "execution_count": 4,
   "metadata": {},
   "outputs": [
    {
     "data": {
      "text/plain": [
       "array([ 6.66442442, 38.83215837, 32.19670371, 20.26023745, 24.37257785,\n",
       "       35.30576523, 19.12247616, 34.13300824, 25.09850094, 27.94175213])"
      ]
     },
     "execution_count": 4,
     "metadata": {},
     "output_type": "execute_result"
    }
   ],
   "source": [
    "fit.sigmas[0]"
   ]
  },
  {
   "cell_type": "markdown",
   "metadata": {},
   "source": [
    "# How good is the reconstruction error?"
   ]
  },
  {
   "cell_type": "code",
   "execution_count": 5,
   "metadata": {},
   "outputs": [
    {
     "data": {
      "text/plain": [
       "7.993605777301127e-15"
      ]
     },
     "execution_count": 5,
     "metadata": {},
     "output_type": "execute_result"
    }
   ],
   "source": [
    "np.max(data1 - np.dot(np.dot(fit.U[0,:,:], np.diag(fit.sigmas[0])), fit.V.T))"
   ]
  },
  {
   "cell_type": "code",
   "execution_count": null,
   "metadata": {},
   "outputs": [],
   "source": [
    "kallisto_counts = {}\n",
    "srp_species =  defaultdict(list)\n",
    "for f in glob.glob('../../svd-project/cross-species-data/SRP016501-*_kallisto_gene_tables.tsv'):\n",
    "    sample_name = f.split('/')[-1].replace('_kallisto_gene_tables.tsv', '')\n",
    "    srp, species = sample_name.split('-')\n",
    "    species = species[0] + species.split('_')[-1]\n",
    "    kallisto_counts['{}_{}'.format(srp, species)] = pd.read_table(f)\n",
    "    srp_species[srp].append(species)               "
   ]
  }
 ],
 "metadata": {
  "kernelspec": {
   "display_name": "Python [conda env:faiss]",
   "language": "python",
   "name": "conda-env-faiss-py"
  },
  "language_info": {
   "codemirror_mode": {
    "name": "ipython",
    "version": 3
   },
   "file_extension": ".py",
   "mimetype": "text/x-python",
   "name": "python",
   "nbconvert_exporter": "python",
   "pygments_lexer": "ipython3",
   "version": "3.6.7"
  }
 },
 "nbformat": 4,
 "nbformat_minor": 2
}
